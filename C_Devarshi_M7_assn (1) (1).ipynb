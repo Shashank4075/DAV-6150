{
 "cells": [
  {
   "cell_type": "markdown",
   "id": "d0b15771",
   "metadata": {},
   "source": [
    "### <CENTER><h1><u>Binary Logistic Regression</u></CENTER></h1>\n",
    "\n",
    "<br>\n",
    "\n",
    "<CENTER>(TEAM CONTRIBUTORS: SHASHANK SHEKHAR, BITTERLEIN KONNOTH BIJU, CHAITANYA DEVARSHI)</CENTER>\n",
    "\n",
    "-------\n",
    "-------"
   ]
  },
  {
   "cell_type": "markdown",
   "id": "8eb4f209",
   "metadata": {},
   "source": [
    "<h2><u>Content</u></h2>\n",
    "\n",
    "1. [Introduction](#1.-Introduction)\n",
    "\n",
    "  1.1 [Problem Statement](#1.1-Problem-Statement)\n",
    "  \n",
    "  1.2 [Methodology](#1.2-Methodology)\n",
    "  \n",
    "\n",
    "2. [Data Loading & Preparation](#2.-Data-Loading-&-Preparation)\n",
    "\n",
    "  2.1 [Read the Data](#2.1-Read-the-Data)\n",
    "  \n",
    "\n",
    "3. [EDA](#3.-Exploratory-Data-Analysis)\n",
    "\n",
    "  3.1 [Missing Values](#3.1-Missing-Values)\n",
    "  \n",
    "  3.2 [Univariate](#3.2-Univariate-Analysis)\n",
    "  \n",
    "   - 3.2.1 [For numeric features](#3.2.1-Univariate-Analysis-for-numeric-features)\n",
    "     \n",
    "   - 3.2.2 [For Binary features](#3.2.2-Univariate-Analysis-for-Binary-features)\n",
    "     \n",
    "  3.3 [Bivariate](#3.3-Bivariate-Analysis)\n",
    "  \n",
    "  3.4 [Multivariate](#3.4-Multivariate-Analysis)\n",
    "\n",
    "\n",
    "4. [Data Cleaning](#4.-Data-Cleaning)\n",
    "\n",
    "  4.1 [Handling Outliers](#4.1-Handling-Outliers)\n",
    "\n",
    "  4.2 [Handling Skewness](#4.2-Handling-Skewness)\n",
    "\n",
    "\n",
    "5. [Prepped Data Review](#5.-Prepped-Data-Review)\n",
    "\n",
    "\n",
    "6. [Dimensionality Reduction](#6.-Dimensionality-Reduction)\n",
    "\n",
    "  6.1 [Variance Threshold](#6.1-Variance-Threshold)\n",
    "  \n",
    "  6.2 [Backward Elimination](#6.2-Backward-Elimination)\n",
    "\n",
    "\n",
    "7. [Binary Logistic Regression Models](#7.-Binary-Logistic-Regression-Models)\n",
    "\n",
    "  7.1 [1<sup>st</sup> Model](#7.1-1st-Model)\n",
    "  \n",
    "  7.2 [2<sup>nd</sup> Model](#7.2-2nd-Model)\n",
    "  \n",
    "  7.3 [3<sup>rd</sup> Model](#7.3-3rd-Model)\n",
    "  \n",
    "  \n",
    "8. [Model Selection](#8.-Model-Selection)\n",
    "\n",
    "\n",
    "9. [Conclusion](#Conclusion)\n"
   ]
  },
  {
   "cell_type": "markdown",
   "id": "169aafd8",
   "metadata": {},
   "source": [
    "==================================================================================================================="
   ]
  },
  {
   "cell_type": "markdown",
   "id": "9228ca2b",
   "metadata": {},
   "source": [
    "## 1. Introduction"
   ]
  },
  {
   "cell_type": "code",
   "execution_count": null,
   "id": "0ef454e0",
   "metadata": {},
   "outputs": [],
   "source": []
  },
  {
   "cell_type": "markdown",
   "id": "d64c4028",
   "metadata": {},
   "source": [
    "----\n",
    "\n",
    "<b> [Back to Content](#Content) </b>"
   ]
  },
  {
   "cell_type": "markdown",
   "id": "604bcb5b",
   "metadata": {},
   "source": [
    "## 1.1 Problem Statement"
   ]
  },
  {
   "cell_type": "code",
   "execution_count": null,
   "id": "48bdc3f4",
   "metadata": {},
   "outputs": [],
   "source": []
  },
  {
   "cell_type": "markdown",
   "id": "9b79564c",
   "metadata": {},
   "source": [
    "----\n",
    "\n",
    "<b> [Back to Content](#Content) </b>"
   ]
  },
  {
   "cell_type": "markdown",
   "id": "a9d6d87f",
   "metadata": {},
   "source": [
    "## 1.2 Methodology"
   ]
  },
  {
   "cell_type": "markdown",
   "id": "108c06f9",
   "metadata": {},
   "source": [
    "<h3><u> To address this assignment, we will follow these below steps :- </u></h3>\n",
    "\n",
    "1. **Load the dataset**: Upload the `M7_Data.csv` file from the DAV 6150 Github Repository.\n",
    "\n",
    "2. **Read the dataset**: Using a Jupyter Notebook, read the dataset from the respective Github repository and load it into a Pandas DataFrame.\n",
    "\n",
    "3. **Perform EDA**: Carry out Exploratory Data Analysis to examine the dataset's structure and understand the variables.\n",
    "\n",
    "4. **Identify and rectify issues**: Detect data quality and integrity issues such as missing values or outliers during EDA, and take appropriate actions to address them.\n",
    "\n",
    "5. **Prepped Data Review**: Here, we will cross check every thing and will make sure our data is ready for further analysis.\n",
    "\n",
    "6. **Feature Scale, Selection & Dimensionality Reduction**: Applying feature selection techniques and perform dimensionality reduction to prepare the data for modeling.\n",
    "\n",
    "7. **Binary Logistic Regression Modelling**: We will make 3 different models of Binary Logistic Regression.\n",
    "\n",
    "8. **Models Selection**: Among the 3 different models, we will make our judgement on selecting one model.\n",
    "\n",
    "9. **Conclusion**: We will conclude our work."
   ]
  },
  {
   "cell_type": "markdown",
   "id": "f4d9b98a",
   "metadata": {},
   "source": [
    "----\n",
    "\n",
    "<b> [Back to Content](#Content) </b>"
   ]
  },
  {
   "cell_type": "markdown",
   "id": "13641919",
   "metadata": {},
   "source": [
    "## 2. Data Loading & Preparation"
   ]
  },
  {
   "cell_type": "code",
   "execution_count": 1,
   "id": "22858488",
   "metadata": {},
   "outputs": [],
   "source": [
    "# Importing basic Libraries.\n",
    "\n",
    "import pandas as pd \n",
    "import numpy as np\n",
    "\n",
    "# Importing Libraries for statistical analysis.\n",
    "\n",
    "import statsmodels.api as sm\n",
    "from scipy import stats\n",
    "\n",
    "# Importing Libraries for machine learning models.\n",
    "\n",
    "import sklearn\n",
    "from sklearn import metrics\n",
    "import imblearn\n",
    "from imblearn.metrics import specificity_score\n",
    "from sklearn.metrics import roc_auc_score, roc_curve, auc, classification_report\n",
    "from sklearn.feature_selection import VarianceThreshold\n",
    "\n",
    "# Importing Libraries for plotting the graphs.\n",
    "\n",
    "import matplotlib.pyplot as plt\n",
    "import seaborn as sns\n",
    "import plotly.express as px\n",
    "%matplotlib inline\n",
    "\n",
    "# Importing Libraries for Standarising and Normalising.\n",
    "\n",
    "from sklearn.preprocessing import StandardScaler\n",
    "\n",
    "# Import Library for PCA\n",
    "\n",
    "from sklearn.decomposition import PCA\n",
    "\n",
    "# Import missingno library for checking on missing values.\n",
    "\n",
    "import missingno as msno\n",
    "\n",
    "# Importing train_test_split .\n",
    "\n",
    "from sklearn.model_selection import train_test_split, cross_val_score, KFold\n",
    "\n",
    "# Importing filterwarnings from warnings to ignore warnings.\n",
    "\n",
    "import warnings\n",
    "warnings.filterwarnings(\"ignore\")"
   ]
  },
  {
   "cell_type": "markdown",
   "id": "cc26aaf1",
   "metadata": {},
   "source": [
    "----\n",
    "\n",
    "<b> [Back to Content](#Content) </b>"
   ]
  },
  {
   "cell_type": "markdown",
   "id": "83a87a00",
   "metadata": {},
   "source": [
    "### 2.1 Read the Data"
   ]
  },
  {
   "cell_type": "code",
   "execution_count": 2,
   "id": "62cc46d3",
   "metadata": {},
   "outputs": [
    {
     "data": {
      "text/html": [
       "<div>\n",
       "<style scoped>\n",
       "    .dataframe tbody tr th:only-of-type {\n",
       "        vertical-align: middle;\n",
       "    }\n",
       "\n",
       "    .dataframe tbody tr th {\n",
       "        vertical-align: top;\n",
       "    }\n",
       "\n",
       "    .dataframe thead th {\n",
       "        text-align: right;\n",
       "    }\n",
       "</style>\n",
       "<table border=\"1\" class=\"dataframe\">\n",
       "  <thead>\n",
       "    <tr style=\"text-align: right;\">\n",
       "      <th></th>\n",
       "      <th>TARGET</th>\n",
       "      <th>loyalty</th>\n",
       "      <th>ID</th>\n",
       "      <th>city</th>\n",
       "      <th>prod_A</th>\n",
       "      <th>type_A</th>\n",
       "      <th>type_B</th>\n",
       "      <th>prod_B</th>\n",
       "      <th>contract</th>\n",
       "      <th>age</th>\n",
       "      <th>age_P</th>\n",
       "      <th>lor_M</th>\n",
       "      <th>LOR</th>\n",
       "      <th>turnover_A</th>\n",
       "      <th>turnover_B</th>\n",
       "    </tr>\n",
       "  </thead>\n",
       "  <tbody>\n",
       "    <tr>\n",
       "      <th>0</th>\n",
       "      <td>Y</td>\n",
       "      <td>99</td>\n",
       "      <td>77</td>\n",
       "      <td>2</td>\n",
       "      <td>0</td>\n",
       "      <td>0</td>\n",
       "      <td>0</td>\n",
       "      <td>0</td>\n",
       "      <td>2</td>\n",
       "      <td>66</td>\n",
       "      <td>66</td>\n",
       "      <td>3</td>\n",
       "      <td>0</td>\n",
       "      <td>333.561114</td>\n",
       "      <td>264.721010</td>\n",
       "    </tr>\n",
       "    <tr>\n",
       "      <th>1</th>\n",
       "      <td>Y</td>\n",
       "      <td>1</td>\n",
       "      <td>159</td>\n",
       "      <td>2</td>\n",
       "      <td>1</td>\n",
       "      <td>3</td>\n",
       "      <td>3</td>\n",
       "      <td>1</td>\n",
       "      <td>2</td>\n",
       "      <td>45</td>\n",
       "      <td>45</td>\n",
       "      <td>39</td>\n",
       "      <td>3</td>\n",
       "      <td>394.735699</td>\n",
       "      <td>284.904978</td>\n",
       "    </tr>\n",
       "    <tr>\n",
       "      <th>2</th>\n",
       "      <td>Y</td>\n",
       "      <td>1</td>\n",
       "      <td>220</td>\n",
       "      <td>2</td>\n",
       "      <td>1</td>\n",
       "      <td>3</td>\n",
       "      <td>6</td>\n",
       "      <td>1</td>\n",
       "      <td>2</td>\n",
       "      <td>42</td>\n",
       "      <td>42</td>\n",
       "      <td>27</td>\n",
       "      <td>2</td>\n",
       "      <td>342.180990</td>\n",
       "      <td>1175.589721</td>\n",
       "    </tr>\n",
       "    <tr>\n",
       "      <th>3</th>\n",
       "      <td>Y</td>\n",
       "      <td>99</td>\n",
       "      <td>303</td>\n",
       "      <td>2</td>\n",
       "      <td>0</td>\n",
       "      <td>0</td>\n",
       "      <td>0</td>\n",
       "      <td>0</td>\n",
       "      <td>2</td>\n",
       "      <td>31</td>\n",
       "      <td>31</td>\n",
       "      <td>3</td>\n",
       "      <td>0</td>\n",
       "      <td>453.757916</td>\n",
       "      <td>242.341754</td>\n",
       "    </tr>\n",
       "    <tr>\n",
       "      <th>4</th>\n",
       "      <td>Y</td>\n",
       "      <td>99</td>\n",
       "      <td>306</td>\n",
       "      <td>2</td>\n",
       "      <td>0</td>\n",
       "      <td>0</td>\n",
       "      <td>0</td>\n",
       "      <td>0</td>\n",
       "      <td>2</td>\n",
       "      <td>62</td>\n",
       "      <td>62</td>\n",
       "      <td>3</td>\n",
       "      <td>0</td>\n",
       "      <td>384.577469</td>\n",
       "      <td>287.008370</td>\n",
       "    </tr>\n",
       "  </tbody>\n",
       "</table>\n",
       "</div>"
      ],
      "text/plain": [
       "  TARGET  loyalty   ID  city  prod_A  type_A  type_B  prod_B  contract  age  \\\n",
       "0      Y       99   77     2       0       0       0       0         2   66   \n",
       "1      Y        1  159     2       1       3       3       1         2   45   \n",
       "2      Y        1  220     2       1       3       6       1         2   42   \n",
       "3      Y       99  303     2       0       0       0       0         2   31   \n",
       "4      Y       99  306     2       0       0       0       0         2   62   \n",
       "\n",
       "   age_P  lor_M  LOR  turnover_A   turnover_B  \n",
       "0     66      3    0  333.561114   264.721010  \n",
       "1     45     39    3  394.735699   284.904978  \n",
       "2     42     27    2  342.180990  1175.589721  \n",
       "3     31      3    0  453.757916   242.341754  \n",
       "4     62      3    0  384.577469   287.008370  "
      ]
     },
     "execution_count": 2,
     "metadata": {},
     "output_type": "execute_result"
    }
   ],
   "source": [
    "# Loading the data from the github repository DAV-6150.\n",
    "\n",
    "# Based on Domain knowledge assigning a proper data types to the columns while loading the data.\n",
    "column_types = {        \n",
    "        'TARGET': object,    \n",
    "        'loyalty': object,\n",
    "        'ID': 'int64',\n",
    "        'age': 'int64',\n",
    "        'city': object,\n",
    "        'LOR': 'int64',    \n",
    "        'prod_A': object,\n",
    "        'type_A': object,\n",
    "        'type_B': object,\n",
    "        'prod_B': object,    \n",
    "        'turnover_A': float,\n",
    "        'turnover_B': float,\n",
    "        'contract': object,\n",
    "        'age_P': 'int64',\n",
    "        'lor_M': 'int64'  \n",
    "    }\n",
    "\n",
    "insurance_data = pd.read_csv(\"https://raw.githubusercontent.com/chetan5373/DAV-6150/refs/heads/main/M7_Assignment/M7_Data.csv\")\n",
    "\n",
    "# Reorder the DataFrame columns. \n",
    "insurance_data = insurance_data[['TARGET', 'loyalty', 'ID', 'city', 'prod_A', 'type_A', 'type_B', 'prod_B', 'contract', \n",
    "                   'age', 'age_P', 'lor_M', 'LOR', 'turnover_A', 'turnover_B']]\n",
    "\n",
    "# Making a copy of the dataset.\n",
    "df = insurance_data.copy()\n",
    "\n",
    "df.head()"
   ]
  },
  {
   "cell_type": "code",
   "execution_count": 3,
   "id": "a0374d9c",
   "metadata": {},
   "outputs": [
    {
     "data": {
      "text/plain": [
       "(14016, 15)"
      ]
     },
     "execution_count": 3,
     "metadata": {},
     "output_type": "execute_result"
    }
   ],
   "source": [
    "# Identifing how many rows and columns the dataframe consist of.\n",
    "\n",
    "df.shape"
   ]
  },
  {
   "cell_type": "code",
   "execution_count": 4,
   "id": "ea7ed323",
   "metadata": {},
   "outputs": [
    {
     "name": "stdout",
     "output_type": "stream",
     "text": [
      "<class 'pandas.core.frame.DataFrame'>\n",
      "RangeIndex: 14016 entries, 0 to 14015\n",
      "Data columns (total 15 columns):\n",
      " #   Column      Non-Null Count  Dtype  \n",
      "---  ------      --------------  -----  \n",
      " 0   TARGET      14016 non-null  object \n",
      " 1   loyalty     14016 non-null  int64  \n",
      " 2   ID          14016 non-null  int64  \n",
      " 3   city        14016 non-null  int64  \n",
      " 4   prod_A      14016 non-null  int64  \n",
      " 5   type_A      14016 non-null  int64  \n",
      " 6   type_B      14016 non-null  int64  \n",
      " 7   prod_B      14016 non-null  int64  \n",
      " 8   contract    14016 non-null  int64  \n",
      " 9   age         14016 non-null  int64  \n",
      " 10  age_P       14016 non-null  int64  \n",
      " 11  lor_M       14016 non-null  int64  \n",
      " 12  LOR         14016 non-null  int64  \n",
      " 13  turnover_A  14016 non-null  float64\n",
      " 14  turnover_B  14016 non-null  float64\n",
      "dtypes: float64(2), int64(12), object(1)\n",
      "memory usage: 1.6+ MB\n"
     ]
    }
   ],
   "source": [
    "# Getting a concise summary of the DataFrame .\n",
    "\n",
    "df.info()"
   ]
  },
  {
   "cell_type": "markdown",
   "id": "3e537241",
   "metadata": {},
   "source": [
    "**Dataset observation:**\n",
    "\n",
    "\n",
    "\n",
    "- Index ranges from 0-14015.\n",
    "\n",
    "- Total number of attributes are 15.\n",
    "\n",
    "- Where, 12 are 'int', 2 are 'float' and 1 is 'object'.\n",
    "\n",
    "- As of now there are no any missing values in any columns."
   ]
  },
  {
   "cell_type": "markdown",
   "id": "8c179ea8",
   "metadata": {},
   "source": [
    "----\n",
    "\n",
    "<b> [Back to Content](#Content) </b>"
   ]
  },
  {
   "cell_type": "markdown",
   "id": "fc136515",
   "metadata": {},
   "source": [
    "## 3. Exploratory Data Analysis"
   ]
  },
  {
   "cell_type": "markdown",
   "id": "65bd3323",
   "metadata": {},
   "source": [
    "- Analyzing a data set for purposes of summarizing its characteristics, identifying relationships between its attributes, and discovering patterns, trends, outliers, missing values and invalid values within the data. "
   ]
  },
  {
   "cell_type": "code",
   "execution_count": 5,
   "id": "21c36356",
   "metadata": {},
   "outputs": [
    {
     "data": {
      "text/plain": [
       "Index(['TARGET', 'loyalty', 'ID', 'city', 'prod_A', 'type_A', 'type_B',\n",
       "       'prod_B', 'contract', 'age', 'age_P', 'lor_M', 'LOR', 'turnover_A',\n",
       "       'turnover_B'],\n",
       "      dtype='object')"
      ]
     },
     "execution_count": 5,
     "metadata": {},
     "output_type": "execute_result"
    }
   ],
   "source": [
    "# Checking columns names.\n",
    "\n",
    "df.columns"
   ]
  },
  {
   "cell_type": "markdown",
   "id": "16c3c2bd",
   "metadata": {},
   "source": [
    "----\n",
    "\n",
    "<b> [Back to Content](#Content) </b>"
   ]
  },
  {
   "cell_type": "markdown",
   "id": "22aec04b",
   "metadata": {},
   "source": [
    "### 3.1 Missing Values"
   ]
  },
  {
   "cell_type": "code",
   "execution_count": 6,
   "id": "416fe7ac",
   "metadata": {},
   "outputs": [
    {
     "data": {
      "text/plain": [
       "TARGET        0\n",
       "loyalty       0\n",
       "ID            0\n",
       "city          0\n",
       "prod_A        0\n",
       "type_A        0\n",
       "type_B        0\n",
       "prod_B        0\n",
       "contract      0\n",
       "age           0\n",
       "age_P         0\n",
       "lor_M         0\n",
       "LOR           0\n",
       "turnover_A    0\n",
       "turnover_B    0\n",
       "dtype: int64"
      ]
     },
     "execution_count": 6,
     "metadata": {},
     "output_type": "execute_result"
    }
   ],
   "source": [
    "# Checking for null values.\n",
    "\n",
    "df.isnull().sum()"
   ]
  },
  {
   "cell_type": "markdown",
   "id": "11209bad",
   "metadata": {},
   "source": [
    "- As of now there are no nulls present."
   ]
  },
  {
   "cell_type": "code",
   "execution_count": 7,
   "id": "5bb53216",
   "metadata": {},
   "outputs": [
    {
     "data": {
      "text/plain": [
       "3008"
      ]
     },
     "execution_count": 7,
     "metadata": {},
     "output_type": "execute_result"
    }
   ],
   "source": [
    "# Checking for duplicate values.\n",
    "\n",
    "df.ID.duplicated().sum()"
   ]
  },
  {
   "cell_type": "markdown",
   "id": "fb8ebb7e",
   "metadata": {},
   "source": [
    "- There are 3008 duplicate rows in the whole dataset, it should be removed."
   ]
  },
  {
   "cell_type": "code",
   "execution_count": 8,
   "id": "5e3696bd",
   "metadata": {},
   "outputs": [
    {
     "name": "stdout",
     "output_type": "stream",
     "text": [
      "There are negative values in the DataFrame.\n",
      "Columns with negative values: ['city']\n"
     ]
    }
   ],
   "source": [
    "# Check if any negative value exists in the entire DataFrame.\n",
    "\n",
    "# Select only numeric columns.\n",
    "numeric_df = df.select_dtypes(include=['number'])\n",
    "\n",
    "# Find columns that have negative values.\n",
    "columns_with_negatives = numeric_df.columns[(numeric_df < 0).any()]\n",
    "\n",
    "if (numeric_df < 0).any().any():\n",
    "    print(\"There are negative values in the DataFrame.\")\n",
    "else:\n",
    "    print(\"There are no negative values in the DataFrame.\")\n",
    "    \n",
    "# Print the column names that contain negative values.\n",
    "print(\"Columns with negative values:\", columns_with_negatives.tolist())"
   ]
  },
  {
   "cell_type": "markdown",
   "id": "166d04c0",
   "metadata": {},
   "source": [
    "----\n",
    "\n",
    "<b> [Back to Content](#Content) </b>"
   ]
  },
  {
   "cell_type": "markdown",
   "id": "cdbf291d",
   "metadata": {},
   "source": [
    "### 3.2 Univariate Analysis"
   ]
  },
  {
   "cell_type": "code",
   "execution_count": 9,
   "id": "8089ccad",
   "metadata": {},
   "outputs": [
    {
     "data": {
      "text/html": [
       "<div>\n",
       "<style scoped>\n",
       "    .dataframe tbody tr th:only-of-type {\n",
       "        vertical-align: middle;\n",
       "    }\n",
       "\n",
       "    .dataframe tbody tr th {\n",
       "        vertical-align: top;\n",
       "    }\n",
       "\n",
       "    .dataframe thead th {\n",
       "        text-align: right;\n",
       "    }\n",
       "</style>\n",
       "<table border=\"1\" class=\"dataframe\">\n",
       "  <thead>\n",
       "    <tr style=\"text-align: right;\">\n",
       "      <th></th>\n",
       "      <th>TARGET</th>\n",
       "      <th>loyalty</th>\n",
       "      <th>ID</th>\n",
       "      <th>city</th>\n",
       "      <th>prod_A</th>\n",
       "      <th>type_A</th>\n",
       "      <th>type_B</th>\n",
       "      <th>prod_B</th>\n",
       "      <th>contract</th>\n",
       "      <th>age</th>\n",
       "      <th>age_P</th>\n",
       "      <th>lor_M</th>\n",
       "      <th>LOR</th>\n",
       "      <th>turnover_A</th>\n",
       "      <th>turnover_B</th>\n",
       "    </tr>\n",
       "  </thead>\n",
       "  <tbody>\n",
       "    <tr>\n",
       "      <th>0</th>\n",
       "      <td>Y</td>\n",
       "      <td>99</td>\n",
       "      <td>77</td>\n",
       "      <td>2</td>\n",
       "      <td>0</td>\n",
       "      <td>0</td>\n",
       "      <td>0</td>\n",
       "      <td>0</td>\n",
       "      <td>2</td>\n",
       "      <td>66</td>\n",
       "      <td>66</td>\n",
       "      <td>3</td>\n",
       "      <td>0</td>\n",
       "      <td>333.561114</td>\n",
       "      <td>264.721010</td>\n",
       "    </tr>\n",
       "    <tr>\n",
       "      <th>1</th>\n",
       "      <td>Y</td>\n",
       "      <td>1</td>\n",
       "      <td>159</td>\n",
       "      <td>2</td>\n",
       "      <td>1</td>\n",
       "      <td>3</td>\n",
       "      <td>3</td>\n",
       "      <td>1</td>\n",
       "      <td>2</td>\n",
       "      <td>45</td>\n",
       "      <td>45</td>\n",
       "      <td>39</td>\n",
       "      <td>3</td>\n",
       "      <td>394.735699</td>\n",
       "      <td>284.904978</td>\n",
       "    </tr>\n",
       "    <tr>\n",
       "      <th>2</th>\n",
       "      <td>Y</td>\n",
       "      <td>1</td>\n",
       "      <td>220</td>\n",
       "      <td>2</td>\n",
       "      <td>1</td>\n",
       "      <td>3</td>\n",
       "      <td>6</td>\n",
       "      <td>1</td>\n",
       "      <td>2</td>\n",
       "      <td>42</td>\n",
       "      <td>42</td>\n",
       "      <td>27</td>\n",
       "      <td>2</td>\n",
       "      <td>342.180990</td>\n",
       "      <td>1175.589721</td>\n",
       "    </tr>\n",
       "    <tr>\n",
       "      <th>3</th>\n",
       "      <td>Y</td>\n",
       "      <td>99</td>\n",
       "      <td>303</td>\n",
       "      <td>2</td>\n",
       "      <td>0</td>\n",
       "      <td>0</td>\n",
       "      <td>0</td>\n",
       "      <td>0</td>\n",
       "      <td>2</td>\n",
       "      <td>31</td>\n",
       "      <td>31</td>\n",
       "      <td>3</td>\n",
       "      <td>0</td>\n",
       "      <td>453.757916</td>\n",
       "      <td>242.341754</td>\n",
       "    </tr>\n",
       "    <tr>\n",
       "      <th>4</th>\n",
       "      <td>Y</td>\n",
       "      <td>99</td>\n",
       "      <td>306</td>\n",
       "      <td>2</td>\n",
       "      <td>0</td>\n",
       "      <td>0</td>\n",
       "      <td>0</td>\n",
       "      <td>0</td>\n",
       "      <td>2</td>\n",
       "      <td>62</td>\n",
       "      <td>62</td>\n",
       "      <td>3</td>\n",
       "      <td>0</td>\n",
       "      <td>384.577469</td>\n",
       "      <td>287.008370</td>\n",
       "    </tr>\n",
       "  </tbody>\n",
       "</table>\n",
       "</div>"
      ],
      "text/plain": [
       "  TARGET  loyalty   ID  city  prod_A  type_A  type_B  prod_B  contract  age  \\\n",
       "0      Y       99   77     2       0       0       0       0         2   66   \n",
       "1      Y        1  159     2       1       3       3       1         2   45   \n",
       "2      Y        1  220     2       1       3       6       1         2   42   \n",
       "3      Y       99  303     2       0       0       0       0         2   31   \n",
       "4      Y       99  306     2       0       0       0       0         2   62   \n",
       "\n",
       "   age_P  lor_M  LOR  turnover_A   turnover_B  \n",
       "0     66      3    0  333.561114   264.721010  \n",
       "1     45     39    3  394.735699   284.904978  \n",
       "2     42     27    2  342.180990  1175.589721  \n",
       "3     31      3    0  453.757916   242.341754  \n",
       "4     62      3    0  384.577469   287.008370  "
      ]
     },
     "execution_count": 9,
     "metadata": {},
     "output_type": "execute_result"
    }
   ],
   "source": [
    "df.head()"
   ]
  },
  {
   "cell_type": "code",
   "execution_count": 10,
   "id": "407053f0",
   "metadata": {
    "scrolled": false
   },
   "outputs": [
    {
     "name": "stdout",
     "output_type": "stream",
     "text": [
      "<class 'pandas.core.frame.DataFrame'>\n",
      "RangeIndex: 14016 entries, 0 to 14015\n",
      "Data columns (total 15 columns):\n",
      " #   Column      Non-Null Count  Dtype  \n",
      "---  ------      --------------  -----  \n",
      " 0   TARGET      14016 non-null  object \n",
      " 1   loyalty     14016 non-null  int64  \n",
      " 2   ID          14016 non-null  int64  \n",
      " 3   city        14016 non-null  int64  \n",
      " 4   prod_A      14016 non-null  int64  \n",
      " 5   type_A      14016 non-null  int64  \n",
      " 6   type_B      14016 non-null  int64  \n",
      " 7   prod_B      14016 non-null  int64  \n",
      " 8   contract    14016 non-null  int64  \n",
      " 9   age         14016 non-null  int64  \n",
      " 10  age_P       14016 non-null  int64  \n",
      " 11  lor_M       14016 non-null  int64  \n",
      " 12  LOR         14016 non-null  int64  \n",
      " 13  turnover_A  14016 non-null  float64\n",
      " 14  turnover_B  14016 non-null  float64\n",
      "dtypes: float64(2), int64(12), object(1)\n",
      "memory usage: 1.6+ MB\n"
     ]
    }
   ],
   "source": [
    "df.info()"
   ]
  },
  {
   "cell_type": "code",
   "execution_count": 11,
   "id": "b1fd31b6",
   "metadata": {},
   "outputs": [
    {
     "name": "stdout",
     "output_type": "stream",
     "text": [
      "There are negative values in the DataFrame.\n",
      "Columns with negative values: ['city']\n"
     ]
    }
   ],
   "source": [
    "# Check if any negative value exists in the entire DataFrame\n",
    "# Select only numeric columns\n",
    "numeric_df = df.select_dtypes(include=['number'])\n",
    "\n",
    "# Find columns that have negative values\n",
    "columns_with_negatives = numeric_df.columns[(numeric_df < 0).any()]\n",
    "\n",
    "if (numeric_df < 0).any().any():\n",
    "    print(\"There are negative values in the DataFrame.\")\n",
    "else:\n",
    "    print(\"There are no negative values in the DataFrame.\")\n",
    "    \n",
    "# Print the column names that contain negative values\n",
    "print(\"Columns with negative values:\", columns_with_negatives.tolist())"
   ]
  },
  {
   "cell_type": "markdown",
   "id": "35388784",
   "metadata": {},
   "source": [
    "----\n",
    "\n",
    "<b> [Back to Content](#Content) </b>"
   ]
  },
  {
   "cell_type": "markdown",
   "id": "6c6a3716",
   "metadata": {},
   "source": [
    "### 3.2.1 For Numeric Features"
   ]
  },
  {
   "cell_type": "code",
   "execution_count": 12,
   "id": "1aa512cc",
   "metadata": {},
   "outputs": [],
   "source": [
    "# Create function to plot dist and box plot for all the numeric features. \n",
    "\n",
    "def box_dist_plot(df , column):\n",
    "    \n",
    "    \n",
    "    \"\"\"\n",
    "    \n",
    "    This function is to plot box-plot and distribution-plot for a given column, \n",
    "    column's median value, with count and percentage of null values. \n",
    "    \n",
    "    Parameters :-\n",
    "        df : Dataframe           # df contains Dataframe.\n",
    "        column : str             # Column name which is to be ploted.\n",
    "    \n",
    "    \"\"\"\n",
    "    \n",
    "    plt.style.use('ggplot')  \n",
    "    \n",
    "    plt.figure(figsize=(18, 7))\n",
    "\n",
    "    # Box plot.\n",
    "    plt.subplot(121)\n",
    "    sns.boxplot(y = df[column])  # Create box plot\n",
    "    plt.title(f'Box Plot of : {column}')\n",
    "\n",
    "    # Distribution plot.\n",
    "    plt.subplot(122)\n",
    "    sns.histplot(df[column], bins=30, kde=True)  # Create histogram with KDE\n",
    "    plt.title(f'Distribution Plot of : {column}')\n",
    "\n",
    "    # Adjusting the layout.\n",
    "    plt.tight_layout() \n",
    "\n",
    "    plt.show()  \n",
    "\n",
    "    # To print statistics.\n",
    "    print(df[column].describe())\n",
    "    print('Median :', df[column].median())\n",
    "    print()\n",
    "    print('Total Number of null values :', df[column].isnull().sum(), 'count,', \n",
    "          round(df[column].isnull().mean() * 100, 2), '%')"
   ]
  },
  {
   "cell_type": "code",
   "execution_count": 13,
   "id": "587da338",
   "metadata": {},
   "outputs": [
    {
     "data": {
      "image/png": "[encoded data removed]",
      "text/plain": [
       "<Figure size 1296x504 with 2 Axes>"
      ]
     },
     "metadata": {},
     "output_type": "display_data"
    },
    {
     "name": "stdout",
     "output_type": "stream",
     "text": [
      "count    14016.000000\n",
      "mean        35.882920\n",
      "std         12.974634\n",
      "min          5.000000\n",
      "25%         25.000000\n",
      "50%         33.000000\n",
      "75%         43.000000\n",
      "max        102.000000\n",
      "Name: age, dtype: float64\n",
      "Median : 33.0\n",
      "\n",
      "Total Number of null values : 0 count, 0.0 %\n"
     ]
    }
   ],
   "source": [
    "box_dist_plot(df,'age')"
   ]
  },
  {
   "cell_type": "markdown",
   "id": "d211f0b9",
   "metadata": {},
   "source": [
    "- Here 'age' is the age of customers in years, data is right skewed and also it has an outliers, but they are valid data points."
   ]
  },
  {
   "cell_type": "code",
   "execution_count": 14,
   "id": "e2cb59ce",
   "metadata": {},
   "outputs": [
    {
     "data": {
      "image/png": "[encoded data removed]",
      "text/plain": [
       "<Figure size 1296x504 with 2 Axes>"
      ]
     },
     "metadata": {},
     "output_type": "display_data"
    },
    {
     "name": "stdout",
     "output_type": "stream",
     "text": [
      "count    14016.000000\n",
      "mean        35.882920\n",
      "std         12.974634\n",
      "min          5.000000\n",
      "25%         25.000000\n",
      "50%         33.000000\n",
      "75%         43.000000\n",
      "max        102.000000\n",
      "Name: age_P, dtype: float64\n",
      "Median : 33.0\n",
      "\n",
      "Total Number of null values : 0 count, 0.0 %\n"
     ]
    }
   ],
   "source": [
    "box_dist_plot(df,'age_P')"
   ]
  },
  {
   "cell_type": "markdown",
   "id": "c64d0830",
   "metadata": {},
   "source": [
    "- Here 'age_P' represents age of customers' partner in years, where data is right skewed and has a outliers. Thus, all the data points are valid."
   ]
  },
  {
   "cell_type": "markdown",
   "id": "ea7f70d3",
   "metadata": {},
   "source": [
    "__Note__ - As per the above 2 univariate analysis of 'age' and 'age_P', has exactly the same statistic value, will check if each data points are same in both the attributes, then we can drop one of them."
   ]
  },
  {
   "cell_type": "code",
   "execution_count": 15,
   "id": "3cb0097d",
   "metadata": {
    "scrolled": false
   },
   "outputs": [
    {
     "data": {
      "image/png": "[encoded data removed]",
      "text/plain": [
       "<Figure size 1296x504 with 2 Axes>"
      ]
     },
     "metadata": {},
     "output_type": "display_data"
    },
    {
     "name": "stdout",
     "output_type": "stream",
     "text": [
      "count    14016.000000\n",
      "mean         0.926299\n",
      "std          0.965212\n",
      "min          0.000000\n",
      "25%          0.000000\n",
      "50%          1.000000\n",
      "75%          1.000000\n",
      "max          6.000000\n",
      "Name: LOR, dtype: float64\n",
      "Median : 1.0\n",
      "\n",
      "Total Number of null values : 0 count, 0.0 %\n"
     ]
    }
   ],
   "source": [
    "box_dist_plot(df,'LOR')"
   ]
  },
  {
   "cell_type": "markdown",
   "id": "9a4f1dae",
   "metadata": {},
   "source": [
    "- Here 'LOR', it is the length of relationship in years with the insurance company, mostly the data of relationship with the insurance company is 0 - 2 years, so there are outliers but are valid points."
   ]
  },
  {
   "cell_type": "code",
   "execution_count": 16,
   "id": "6bf4bf53",
   "metadata": {},
   "outputs": [
    {
     "data": {
      "image/png": "[encoded data removed]",
      "text/plain": [
       "<Figure size 1296x504 with 2 Axes>"
      ]
     },
     "metadata": {},
     "output_type": "display_data"
    },
    {
     "name": "stdout",
     "output_type": "stream",
     "text": [
      "count    14016.000000\n",
      "mean        14.115582\n",
      "std         11.582550\n",
      "min          3.000000\n",
      "25%          3.000000\n",
      "50%         15.000000\n",
      "75%         15.000000\n",
      "max         75.000000\n",
      "Name: lor_M, dtype: float64\n",
      "Median : 15.0\n",
      "\n",
      "Total Number of null values : 0 count, 0.0 %\n"
     ]
    }
   ],
   "source": [
    "box_dist_plot(df,'lor_M')"
   ]
  },
  {
   "cell_type": "markdown",
   "id": "f5811122",
   "metadata": {},
   "source": [
    "- Here 'lor_M' it is the length of relationship in months with the insurance company, mostly the data of relationship with the insurance company is 0 - 30 months, so there are outliers but are valid points. By the way, this attribute is similar to the 'LOR' attributes in terms of observation, may be from both we can exclude one of them."
   ]
  },
  {
   "cell_type": "code",
   "execution_count": 17,
   "id": "386d7c39",
   "metadata": {},
   "outputs": [
    {
     "data": {
      "image/png": "[encoded data removed]",
      "text/plain": [
       "<Figure size 1296x504 with 2 Axes>"
      ]
     },
     "metadata": {},
     "output_type": "display_data"
    },
    {
     "name": "stdout",
     "output_type": "stream",
     "text": [
      "count    14016.000000\n",
      "mean       379.161320\n",
      "std         92.612207\n",
      "min        300.095909\n",
      "25%        334.919412\n",
      "50%        367.891493\n",
      "75%        399.744924\n",
      "max       5568.784139\n",
      "Name: turnover_A, dtype: float64\n",
      "Median : 367.8914932\n",
      "\n",
      "Total Number of null values : 0 count, 0.0 %\n"
     ]
    }
   ],
   "source": [
    "box_dist_plot(df,'turnover_A')"
   ]
  },
  {
   "cell_type": "markdown",
   "id": "f1025614",
   "metadata": {},
   "source": [
    "- Here 'turnover_A', it is a turnover of the sell of product-A, where highest turnover is around 5500 and lowest is around 300."
   ]
  },
  {
   "cell_type": "code",
   "execution_count": 18,
   "id": "d0abe5c7",
   "metadata": {},
   "outputs": [
    {
     "data": {
      "image/png": "[encoded data removed]",
      "text/plain": [
       "<Figure size 1296x504 with 2 Axes>"
      ]
     },
     "metadata": {},
     "output_type": "display_data"
    },
    {
     "name": "stdout",
     "output_type": "stream",
     "text": [
      "count    14016.000000\n",
      "mean       328.628207\n",
      "std        475.616525\n",
      "min        191.962852\n",
      "25%        219.406925\n",
      "50%        237.656757\n",
      "75%        264.131538\n",
      "max      12249.084770\n",
      "Name: turnover_B, dtype: float64\n",
      "Median : 237.65675670000002\n",
      "\n",
      "Total Number of null values : 0 count, 0.0 %\n"
     ]
    }
   ],
   "source": [
    "box_dist_plot(df,'turnover_B')"
   ]
  },
  {
   "cell_type": "markdown",
   "id": "c4883501",
   "metadata": {},
   "source": [
    "- Here 'turnover_B', it is a turnover of the sell of product-B, where highest turnover is around 12250 and lowest is around 190."
   ]
  },
  {
   "cell_type": "markdown",
   "id": "2d1729a8",
   "metadata": {},
   "source": [
    "----\n",
    "\n",
    "<b> [Back to Content](#Content) </b>"
   ]
  },
  {
   "cell_type": "markdown",
   "id": "c02fab05",
   "metadata": {},
   "source": [
    "### 3.2.2 For Categorical Features"
   ]
  },
  {
   "cell_type": "code",
   "execution_count": 19,
   "id": "5adbd1d0",
   "metadata": {},
   "outputs": [],
   "source": [
    "# Generates a count plot and displays the count of each category for a specified column in the dataframe.\n",
    "\n",
    "def plot_category_counts(df, column):\n",
    "    \n",
    "    \"\"\"\n",
    "    A function to plot a countplot and  displays the count of each category \n",
    "    for a specified column in the dataframe.\n",
    "    \n",
    "        column : str\n",
    "        The name of the categorical column to plot and count.\n",
    "    \"\"\"\n",
    "\n",
    "    # Count plot for the specified column.\n",
    "    plt.figure(figsize=(10, 6))\n",
    "    sns.countplot(data=df, x=column, palette=\"viridis\")\n",
    "    \n",
    "\n",
    "    # Set plot labels and title\n",
    "    plt.xlabel(column)  \n",
    "    plt.ylabel('Count')     \n",
    "    plt.xticks(rotation=90, ha='right')\n",
    "    plt.title(f'Count of {column}')\n",
    "\n",
    "    # Display the plot\n",
    "    plt.show()\n",
    "\n",
    "    # Display count of each category\n",
    "    counts = df[column].value_counts()\n",
    "    print(f\"\\nCounts for {column}:\\n{counts}\")\n",
    "\n",
    "    #For unique count of input\n",
    "    unique_count = df[column].nunique()\n",
    "    print(f\"\\nUnique for {column}:\\n{unique_count}\")"
   ]
  },
  {
   "cell_type": "code",
   "execution_count": 20,
   "id": "a155800b",
   "metadata": {
    "scrolled": false
   },
   "outputs": [
    {
     "data": {
      "image/png": "[encoded data removed]",
      "text/plain": [
       "<Figure size 720x432 with 1 Axes>"
      ]
     },
     "metadata": {},
     "output_type": "display_data"
    },
    {
     "name": "stdout",
     "output_type": "stream",
     "text": [
      "\n",
      "Counts for TARGET:\n",
      "TARGET\n",
      "N    8000\n",
      "Y    6016\n",
      "Name: count, dtype: int64\n",
      "\n",
      "Unique for TARGET:\n",
      "2\n"
     ]
    }
   ],
   "source": [
    "plot_category_counts(df, 'TARGET')"
   ]
  },
  {
   "cell_type": "markdown",
   "id": "cb0b2228",
   "metadata": {},
   "source": [
    "- There are 'Yes' values around 6016 and 8000 values of 'No' in our target variable."
   ]
  },
  {
   "cell_type": "code",
   "execution_count": 21,
   "id": "1aa0957b",
   "metadata": {},
   "outputs": [
    {
     "data": {
      "image/png": "[encoded data removed]",
      "text/plain": [
       "<Figure size 720x432 with 1 Axes>"
      ]
     },
     "metadata": {},
     "output_type": "display_data"
    },
    {
     "name": "stdout",
     "output_type": "stream",
     "text": [
      "\n",
      "Counts for loyalty:\n",
      "loyalty\n",
      "99    6986\n",
      "3     3069\n",
      "1     2480\n",
      "2     1425\n",
      "0       56\n",
      "Name: count, dtype: int64\n",
      "\n",
      "Unique for loyalty:\n",
      "5\n"
     ]
    }
   ],
   "source": [
    "plot_category_counts(df,'loyalty')"
   ]
  },
  {
   "cell_type": "markdown",
   "id": "0b2205ac",
   "metadata": {},
   "source": [
    "- It is the level of loyalty from low to high (0 to 3), and 99 indicates unclassified values, there are lot of unclassified values which we don't need to worry about it."
   ]
  },
  {
   "cell_type": "code",
   "execution_count": 22,
   "id": "1c891d01",
   "metadata": {
    "scrolled": false
   },
   "outputs": [
    {
     "data": {
      "image/png": "[encoded data removed]",
      "text/plain": [
       "<Figure size 720x432 with 1 Axes>"
      ]
     },
     "metadata": {},
     "output_type": "display_data"
    },
    {
     "name": "stdout",
     "output_type": "stream",
     "text": [
      "\n",
      "Counts for city:\n",
      "city\n",
      "2      13720\n",
      "1         28\n",
      "0         26\n",
      "8         21\n",
      "9         20\n",
      "       ...  \n",
      "51         1\n",
      "107        1\n",
      "174        1\n",
      "141        1\n",
      "30         1\n",
      "Name: count, Length: 65, dtype: int64\n",
      "\n",
      "Unique for city:\n",
      "65\n"
     ]
    }
   ],
   "source": [
    "plot_category_counts(df,'city')"
   ]
  },
  {
   "cell_type": "markdown",
   "id": "eaa15ea0",
   "metadata": {},
   "source": [
    "- As per the countplot, we can observe that most of the data is of one particular class. So, we will be checking the percentage of it."
   ]
  },
  {
   "cell_type": "code",
   "execution_count": 23,
   "id": "da715d94",
   "metadata": {
    "scrolled": false
   },
   "outputs": [
    {
     "data": {
      "text/plain": [
       "city\n",
       "2      97.888128\n",
       "1       0.199772\n",
       "0       0.185502\n",
       "8       0.149829\n",
       "9       0.142694\n",
       "         ...    \n",
       "51      0.007135\n",
       "107     0.007135\n",
       "174     0.007135\n",
       "141     0.007135\n",
       "30      0.007135\n",
       "Name: count, Length: 65, dtype: float64"
      ]
     },
     "execution_count": 23,
     "metadata": {},
     "output_type": "execute_result"
    }
   ],
   "source": [
    "# Calculating the percentage of the attribute 'city's unique values.\n",
    "\n",
    "(df.city.value_counts()/len(df.city)) * 100"
   ]
  },
  {
   "cell_type": "markdown",
   "id": "6477b534",
   "metadata": {},
   "source": [
    "- As most of the data lies in 2, which means that 97.88% of the data is of the city-2. So, this particular city attribute is not of much use in training the models, we can get rid of this attribute.\n",
    "- This also reflects that our dataset is bias to one particular city (city-2)."
   ]
  },
  {
   "cell_type": "code",
   "execution_count": 24,
   "id": "dd24cb8f",
   "metadata": {
    "scrolled": false
   },
   "outputs": [
    {
     "data": {
      "image/png": "[encoded data removed]",
      "text/plain": [
       "<Figure size 720x432 with 1 Axes>"
      ]
     },
     "metadata": {},
     "output_type": "display_data"
    },
    {
     "name": "stdout",
     "output_type": "stream",
     "text": [
      "\n",
      "Counts for prod_A:\n",
      "prod_A\n",
      "1    7482\n",
      "0    6534\n",
      "Name: count, dtype: int64\n",
      "\n",
      "Unique for prod_A:\n",
      "2\n"
     ]
    }
   ],
   "source": [
    "plot_category_counts(df,'prod_A')"
   ]
  },
  {
   "cell_type": "markdown",
   "id": "49f90f02",
   "metadata": {},
   "source": [
    "- Here it shows the count of product-A is bought."
   ]
  },
  {
   "cell_type": "code",
   "execution_count": 25,
   "id": "89850f6d",
   "metadata": {},
   "outputs": [
    {
     "data": {
      "image/png": "[encoded data removed]",
      "text/plain": [
       "<Figure size 720x432 with 1 Axes>"
      ]
     },
     "metadata": {},
     "output_type": "display_data"
    },
    {
     "name": "stdout",
     "output_type": "stream",
     "text": [
      "\n",
      "Counts for type_A:\n",
      "type_A\n",
      "3    7452\n",
      "0    6534\n",
      "6      30\n",
      "Name: count, dtype: int64\n",
      "\n",
      "Unique for type_A:\n",
      "3\n"
     ]
    }
   ],
   "source": [
    "plot_category_counts(df,'type_A')"
   ]
  },
  {
   "cell_type": "markdown",
   "id": "834f1f74",
   "metadata": {},
   "source": [
    "- Here it shows the count of each type of product-A, there are total 3 types of product-A."
   ]
  },
  {
   "cell_type": "code",
   "execution_count": 26,
   "id": "ae52bf08",
   "metadata": {},
   "outputs": [
    {
     "data": {
      "image/png": "[encoded data removed]",
      "text/plain": [
       "<Figure size 720x432 with 1 Axes>"
      ]
     },
     "metadata": {},
     "output_type": "display_data"
    },
    {
     "name": "stdout",
     "output_type": "stream",
     "text": [
      "\n",
      "Counts for type_B:\n",
      "type_B\n",
      "3    7874\n",
      "0    5614\n",
      "6     493\n",
      "9      35\n",
      "Name: count, dtype: int64\n",
      "\n",
      "Unique for type_B:\n",
      "4\n"
     ]
    }
   ],
   "source": [
    "plot_category_counts(df,'type_B')"
   ]
  },
  {
   "cell_type": "markdown",
   "id": "bc896dcd",
   "metadata": {},
   "source": [
    "- Here it shows the count of each type of product-B, there are total 4 types of product-B."
   ]
  },
  {
   "cell_type": "code",
   "execution_count": 27,
   "id": "009085d8",
   "metadata": {
    "scrolled": false
   },
   "outputs": [
    {
     "data": {
      "image/png": "[encoded data removed]",
      "text/plain": [
       "<Figure size 720x432 with 1 Axes>"
      ]
     },
     "metadata": {},
     "output_type": "display_data"
    },
    {
     "name": "stdout",
     "output_type": "stream",
     "text": [
      "\n",
      "Counts for prod_B:\n",
      "prod_B\n",
      "1    8402\n",
      "0    5614\n",
      "Name: count, dtype: int64\n",
      "\n",
      "Unique for prod_B:\n",
      "2\n"
     ]
    }
   ],
   "source": [
    "plot_category_counts(df,'prod_B')"
   ]
  },
  {
   "cell_type": "markdown",
   "id": "8def84e2",
   "metadata": {},
   "source": [
    "- Here it shows the count of product-B is bought."
   ]
  },
  {
   "cell_type": "code",
   "execution_count": 28,
   "id": "53ecb8ec",
   "metadata": {},
   "outputs": [
    {
     "data": {
      "image/png": "[encoded data removed]",
      "text/plain": [
       "<Figure size 720x432 with 1 Axes>"
      ]
     },
     "metadata": {},
     "output_type": "display_data"
    },
    {
     "name": "stdout",
     "output_type": "stream",
     "text": [
      "\n",
      "Counts for contract:\n",
      "contract\n",
      "2    14016\n",
      "Name: count, dtype: int64\n",
      "\n",
      "Unique for contract:\n",
      "1\n"
     ]
    }
   ],
   "source": [
    "plot_category_counts(df,'contract')"
   ]
  },
  {
   "cell_type": "markdown",
   "id": "6c3dcd22",
   "metadata": {},
   "source": [
    "- Here it is the count of contracts, but here is only one type of contract. So, it will not of our use, and furtherly we can get rid of it.\n",
    "- We can say that our dataset only of contract type-2."
   ]
  },
  {
   "cell_type": "markdown",
   "id": "077bb50c",
   "metadata": {},
   "source": [
    "__Note__ - 'ID' attribute is unique identifier which has no role in model training so we will be excluding it under data cleaning, that is why we are not ploting anything for it."
   ]
  },
  {
   "cell_type": "markdown",
   "id": "55b404d3",
   "metadata": {},
   "source": [
    "----\n",
    "\n",
    "<b> [Back to Content](#Content) </b>"
   ]
  },
  {
   "cell_type": "markdown",
   "id": "78462a22",
   "metadata": {},
   "source": [
    "### 3.3 Bivariate Analysis"
   ]
  },
  {
   "cell_type": "code",
   "execution_count": null,
   "id": "1cb341d2",
   "metadata": {},
   "outputs": [],
   "source": []
  },
  {
   "cell_type": "markdown",
   "id": "b8b8b2a3",
   "metadata": {},
   "source": [
    "----\n",
    "\n",
    "<b> [Back to Content](#Content) </b>"
   ]
  },
  {
   "cell_type": "markdown",
   "id": "44c7b20e",
   "metadata": {},
   "source": [
    "### 3.4 Multivariate Analysis"
   ]
  },
  {
   "cell_type": "code",
   "execution_count": null,
   "id": "6bc8d2f0",
   "metadata": {},
   "outputs": [],
   "source": []
  },
  {
   "cell_type": "markdown",
   "id": "f855a40d",
   "metadata": {},
   "source": [
    "----\n",
    "\n",
    "<b> [Back to Content](#Content) </b>"
   ]
  },
  {
   "cell_type": "markdown",
   "id": "42c6445c",
   "metadata": {},
   "source": [
    "## 4. Data Cleaning"
   ]
  },
  {
   "cell_type": "code",
   "execution_count": 29,
   "id": "501ad905",
   "metadata": {},
   "outputs": [
    {
     "data": {
      "text/plain": [
       "TARGET        0\n",
       "loyalty       0\n",
       "ID            0\n",
       "city          0\n",
       "prod_A        0\n",
       "type_A        0\n",
       "type_B        0\n",
       "prod_B        0\n",
       "contract      0\n",
       "age           0\n",
       "age_P         0\n",
       "lor_M         0\n",
       "LOR           0\n",
       "turnover_A    0\n",
       "turnover_B    0\n",
       "dtype: int64"
      ]
     },
     "execution_count": 29,
     "metadata": {},
     "output_type": "execute_result"
    }
   ],
   "source": [
    "# Check for missing values in each columns.\n",
    "\n",
    "df.isnull().sum()"
   ]
  },
  {
   "cell_type": "code",
   "execution_count": 30,
   "id": "0fc682f9",
   "metadata": {},
   "outputs": [],
   "source": [
    "# The lambda function converts 'Y' to 1 and any other value to 0 on 'Target' attribute.\n",
    "\n",
    "df['TARGET'] = df['TARGET'].apply(lambda x: 1 if x == 'Y' else 0)"
   ]
  },
  {
   "cell_type": "markdown",
   "id": "9ef5a09c",
   "metadata": {},
   "source": [
    "- Converting the 'Y' & 'N' to '1' & '0' of response variable('TARGET'), for better analysis."
   ]
  },
  {
   "cell_type": "code",
   "execution_count": 31,
   "id": "8f3d25ee",
   "metadata": {},
   "outputs": [
    {
     "data": {
      "text/plain": [
       "TARGET\n",
       "0    8000\n",
       "1    6016\n",
       "Name: count, dtype: int64"
      ]
     },
     "execution_count": 31,
     "metadata": {},
     "output_type": "execute_result"
    }
   ],
   "source": [
    "# Checking the 'Target'.\n",
    "\n",
    "df.TARGET.value_counts()"
   ]
  },
  {
   "cell_type": "code",
   "execution_count": 32,
   "id": "fd8896f4",
   "metadata": {},
   "outputs": [
    {
     "name": "stdout",
     "output_type": "stream",
     "text": [
      "Number of duplicate rows : 3008\n"
     ]
    }
   ],
   "source": [
    "# Checking the duplicate columns.\n",
    "\n",
    "count_duplicate = df.duplicated().sum()\n",
    "\n",
    "print(f\"Number of duplicate rows :\",count_duplicate)"
   ]
  },
  {
   "cell_type": "code",
   "execution_count": 33,
   "id": "601c19d2",
   "metadata": {},
   "outputs": [
    {
     "data": {
      "text/plain": [
       "(11008, 15)"
      ]
     },
     "execution_count": 33,
     "metadata": {},
     "output_type": "execute_result"
    }
   ],
   "source": [
    "# Removing the duplicate rows.\n",
    "\n",
    "df = df[df.duplicated() == False]\n",
    "\n",
    "# Checking the shape after removing the duplicate rows.\n",
    "df.shape"
   ]
  },
  {
   "cell_type": "code",
   "execution_count": 34,
   "id": "ddfe7edf",
   "metadata": {},
   "outputs": [],
   "source": [
    "# Removing the unwanted attributes, which has been traced from the univariate analysis.\n",
    "\n",
    "df = df.drop(columns=['ID', 'contract', 'city'], axis =1)"
   ]
  },
  {
   "cell_type": "code",
   "execution_count": 35,
   "id": "d1fee59c",
   "metadata": {},
   "outputs": [
    {
     "name": "stdout",
     "output_type": "stream",
     "text": [
      "11008\n",
      "0\n"
     ]
    }
   ],
   "source": [
    "# Checking the each data points of 'age' & 'age_P', as mentioned earlier in the note from univariate analysis.\n",
    "\n",
    "a = 0\n",
    "p = 0\n",
    "\n",
    "for i in range(len(df.age)):\n",
    "    if df.age[i] == df.age_P[i]:\n",
    "        a += 1\n",
    "    else:\n",
    "        p += 1\n",
    "\n",
    "print(a)\n",
    "print(p)"
   ]
  },
  {
   "cell_type": "markdown",
   "id": "555752d9",
   "metadata": {},
   "source": [
    "- So, here both the attributes are eaxctly the same value in each cells. So, we will be removing 'age_P'."
   ]
  },
  {
   "cell_type": "code",
   "execution_count": 36,
   "id": "9480516f",
   "metadata": {},
   "outputs": [],
   "source": [
    "# Removing 'age_P' attribute.\n",
    "\n",
    "df = df.drop(columns=['age_P'], axis =1)"
   ]
  },
  {
   "cell_type": "markdown",
   "id": "3ea2c346",
   "metadata": {},
   "source": [
    "----\n",
    "\n",
    "<b> [Back to Content](#Content) </b>"
   ]
  },
  {
   "cell_type": "markdown",
   "id": "0be349fc",
   "metadata": {},
   "source": [
    "### 4.1 Handling Outliers"
   ]
  },
  {
   "cell_type": "markdown",
   "id": "cb707da5",
   "metadata": {},
   "source": [
    "- `ag\n",
    "\n",
    "- `LOR` ->\n",
    "\n",
    "- `lor_M` ->"
   ]
  },
  {
   "cell_type": "code",
   "execution_count": 77,
   "id": "4522514f",
   "metadata": {},
   "outputs": [
    {
     "data": {
      "text/plain": [
       "0        2.390603\n",
       "1        0.779209\n",
       "2        0.549010\n",
       "3        0.295054\n",
       "4        2.083671\n",
       "           ...   \n",
       "11003    0.141588\n",
       "11004    0.908919\n",
       "11005    0.908919\n",
       "11006    0.218321\n",
       "11007    0.908919\n",
       "Name: age, Length: 11008, dtype: float64"
      ]
     },
     "execution_count": 77,
     "metadata": {},
     "output_type": "execute_result"
    }
   ],
   "source": [
    "z_scores = np.abs(stats.zscore(df['age']))\n",
    "z_scores"
   ]
  },
  {
   "cell_type": "code",
   "execution_count": 78,
   "id": "cb9d1862",
   "metadata": {},
   "outputs": [
    {
     "data": {
      "text/html": [
       "<div>\n",
       "<style scoped>\n",
       "    .dataframe tbody tr th:only-of-type {\n",
       "        vertical-align: middle;\n",
       "    }\n",
       "\n",
       "    .dataframe tbody tr th {\n",
       "        vertical-align: top;\n",
       "    }\n",
       "\n",
       "    .dataframe thead th {\n",
       "        text-align: right;\n",
       "    }\n",
       "</style>\n",
       "<table border=\"1\" class=\"dataframe\">\n",
       "  <thead>\n",
       "    <tr style=\"text-align: right;\">\n",
       "      <th></th>\n",
       "      <th>TARGET</th>\n",
       "      <th>loyalty</th>\n",
       "      <th>prod_A</th>\n",
       "      <th>type_A</th>\n",
       "      <th>type_B</th>\n",
       "      <th>prod_B</th>\n",
       "      <th>age</th>\n",
       "      <th>lor_M</th>\n",
       "      <th>LOR</th>\n",
       "      <th>turnover_A</th>\n",
       "      <th>turnover_B</th>\n",
       "    </tr>\n",
       "  </thead>\n",
       "  <tbody>\n",
       "    <tr>\n",
       "      <th>385</th>\n",
       "      <td>1</td>\n",
       "      <td>1</td>\n",
       "      <td>1</td>\n",
       "      <td>3</td>\n",
       "      <td>3</td>\n",
       "      <td>1</td>\n",
       "      <td>93</td>\n",
       "      <td>15</td>\n",
       "      <td>1</td>\n",
       "      <td>759.703292</td>\n",
       "      <td>602.248238</td>\n",
       "    </tr>\n",
       "    <tr>\n",
       "      <th>621</th>\n",
       "      <td>1</td>\n",
       "      <td>1</td>\n",
       "      <td>1</td>\n",
       "      <td>3</td>\n",
       "      <td>3</td>\n",
       "      <td>1</td>\n",
       "      <td>88</td>\n",
       "      <td>15</td>\n",
       "      <td>1</td>\n",
       "      <td>391.327459</td>\n",
       "      <td>218.431626</td>\n",
       "    </tr>\n",
       "    <tr>\n",
       "      <th>784</th>\n",
       "      <td>1</td>\n",
       "      <td>2</td>\n",
       "      <td>1</td>\n",
       "      <td>3</td>\n",
       "      <td>3</td>\n",
       "      <td>1</td>\n",
       "      <td>89</td>\n",
       "      <td>27</td>\n",
       "      <td>2</td>\n",
       "      <td>302.297637</td>\n",
       "      <td>233.266460</td>\n",
       "    </tr>\n",
       "    <tr>\n",
       "      <th>862</th>\n",
       "      <td>1</td>\n",
       "      <td>99</td>\n",
       "      <td>0</td>\n",
       "      <td>0</td>\n",
       "      <td>0</td>\n",
       "      <td>0</td>\n",
       "      <td>91</td>\n",
       "      <td>3</td>\n",
       "      <td>0</td>\n",
       "      <td>434.454521</td>\n",
       "      <td>204.410312</td>\n",
       "    </tr>\n",
       "    <tr>\n",
       "      <th>2506</th>\n",
       "      <td>1</td>\n",
       "      <td>99</td>\n",
       "      <td>0</td>\n",
       "      <td>0</td>\n",
       "      <td>0</td>\n",
       "      <td>0</td>\n",
       "      <td>94</td>\n",
       "      <td>3</td>\n",
       "      <td>0</td>\n",
       "      <td>459.427643</td>\n",
       "      <td>292.206165</td>\n",
       "    </tr>\n",
       "    <tr>\n",
       "      <th>2741</th>\n",
       "      <td>1</td>\n",
       "      <td>3</td>\n",
       "      <td>1</td>\n",
       "      <td>3</td>\n",
       "      <td>3</td>\n",
       "      <td>1</td>\n",
       "      <td>88</td>\n",
       "      <td>15</td>\n",
       "      <td>1</td>\n",
       "      <td>338.015313</td>\n",
       "      <td>239.908689</td>\n",
       "    </tr>\n",
       "    <tr>\n",
       "      <th>2907</th>\n",
       "      <td>1</td>\n",
       "      <td>1</td>\n",
       "      <td>1</td>\n",
       "      <td>3</td>\n",
       "      <td>3</td>\n",
       "      <td>1</td>\n",
       "      <td>90</td>\n",
       "      <td>15</td>\n",
       "      <td>1</td>\n",
       "      <td>740.800722</td>\n",
       "      <td>482.322004</td>\n",
       "    </tr>\n",
       "    <tr>\n",
       "      <th>2976</th>\n",
       "      <td>1</td>\n",
       "      <td>99</td>\n",
       "      <td>0</td>\n",
       "      <td>0</td>\n",
       "      <td>0</td>\n",
       "      <td>0</td>\n",
       "      <td>102</td>\n",
       "      <td>15</td>\n",
       "      <td>1</td>\n",
       "      <td>436.054680</td>\n",
       "      <td>258.432573</td>\n",
       "    </tr>\n",
       "    <tr>\n",
       "      <th>3207</th>\n",
       "      <td>0</td>\n",
       "      <td>1</td>\n",
       "      <td>0</td>\n",
       "      <td>0</td>\n",
       "      <td>3</td>\n",
       "      <td>1</td>\n",
       "      <td>88</td>\n",
       "      <td>15</td>\n",
       "      <td>1</td>\n",
       "      <td>363.920458</td>\n",
       "      <td>1518.973189</td>\n",
       "    </tr>\n",
       "    <tr>\n",
       "      <th>3253</th>\n",
       "      <td>0</td>\n",
       "      <td>99</td>\n",
       "      <td>0</td>\n",
       "      <td>0</td>\n",
       "      <td>0</td>\n",
       "      <td>0</td>\n",
       "      <td>100</td>\n",
       "      <td>3</td>\n",
       "      <td>0</td>\n",
       "      <td>347.703304</td>\n",
       "      <td>209.913216</td>\n",
       "    </tr>\n",
       "    <tr>\n",
       "      <th>3622</th>\n",
       "      <td>0</td>\n",
       "      <td>99</td>\n",
       "      <td>0</td>\n",
       "      <td>0</td>\n",
       "      <td>0</td>\n",
       "      <td>0</td>\n",
       "      <td>87</td>\n",
       "      <td>3</td>\n",
       "      <td>0</td>\n",
       "      <td>394.677874</td>\n",
       "      <td>217.760416</td>\n",
       "    </tr>\n",
       "    <tr>\n",
       "      <th>3864</th>\n",
       "      <td>0</td>\n",
       "      <td>2</td>\n",
       "      <td>1</td>\n",
       "      <td>3</td>\n",
       "      <td>3</td>\n",
       "      <td>1</td>\n",
       "      <td>94</td>\n",
       "      <td>15</td>\n",
       "      <td>1</td>\n",
       "      <td>310.552118</td>\n",
       "      <td>244.601749</td>\n",
       "    </tr>\n",
       "    <tr>\n",
       "      <th>4178</th>\n",
       "      <td>0</td>\n",
       "      <td>3</td>\n",
       "      <td>1</td>\n",
       "      <td>3</td>\n",
       "      <td>3</td>\n",
       "      <td>1</td>\n",
       "      <td>89</td>\n",
       "      <td>15</td>\n",
       "      <td>1</td>\n",
       "      <td>333.355216</td>\n",
       "      <td>210.236401</td>\n",
       "    </tr>\n",
       "    <tr>\n",
       "      <th>4739</th>\n",
       "      <td>0</td>\n",
       "      <td>2</td>\n",
       "      <td>0</td>\n",
       "      <td>0</td>\n",
       "      <td>3</td>\n",
       "      <td>1</td>\n",
       "      <td>87</td>\n",
       "      <td>15</td>\n",
       "      <td>1</td>\n",
       "      <td>360.009442</td>\n",
       "      <td>223.232606</td>\n",
       "    </tr>\n",
       "    <tr>\n",
       "      <th>4810</th>\n",
       "      <td>0</td>\n",
       "      <td>1</td>\n",
       "      <td>1</td>\n",
       "      <td>3</td>\n",
       "      <td>3</td>\n",
       "      <td>1</td>\n",
       "      <td>89</td>\n",
       "      <td>39</td>\n",
       "      <td>3</td>\n",
       "      <td>960.631131</td>\n",
       "      <td>833.608735</td>\n",
       "    </tr>\n",
       "    <tr>\n",
       "      <th>4960</th>\n",
       "      <td>0</td>\n",
       "      <td>2</td>\n",
       "      <td>1</td>\n",
       "      <td>3</td>\n",
       "      <td>3</td>\n",
       "      <td>1</td>\n",
       "      <td>90</td>\n",
       "      <td>15</td>\n",
       "      <td>1</td>\n",
       "      <td>333.350477</td>\n",
       "      <td>229.533749</td>\n",
       "    </tr>\n",
       "    <tr>\n",
       "      <th>5273</th>\n",
       "      <td>0</td>\n",
       "      <td>3</td>\n",
       "      <td>0</td>\n",
       "      <td>0</td>\n",
       "      <td>3</td>\n",
       "      <td>1</td>\n",
       "      <td>88</td>\n",
       "      <td>15</td>\n",
       "      <td>1</td>\n",
       "      <td>325.913394</td>\n",
       "      <td>2118.326624</td>\n",
       "    </tr>\n",
       "    <tr>\n",
       "      <th>5309</th>\n",
       "      <td>0</td>\n",
       "      <td>2</td>\n",
       "      <td>0</td>\n",
       "      <td>0</td>\n",
       "      <td>3</td>\n",
       "      <td>1</td>\n",
       "      <td>89</td>\n",
       "      <td>15</td>\n",
       "      <td>1</td>\n",
       "      <td>315.743595</td>\n",
       "      <td>2910.608791</td>\n",
       "    </tr>\n",
       "    <tr>\n",
       "      <th>5454</th>\n",
       "      <td>0</td>\n",
       "      <td>3</td>\n",
       "      <td>0</td>\n",
       "      <td>0</td>\n",
       "      <td>3</td>\n",
       "      <td>1</td>\n",
       "      <td>102</td>\n",
       "      <td>15</td>\n",
       "      <td>1</td>\n",
       "      <td>367.491079</td>\n",
       "      <td>3210.235891</td>\n",
       "    </tr>\n",
       "    <tr>\n",
       "      <th>5728</th>\n",
       "      <td>0</td>\n",
       "      <td>99</td>\n",
       "      <td>0</td>\n",
       "      <td>0</td>\n",
       "      <td>0</td>\n",
       "      <td>0</td>\n",
       "      <td>91</td>\n",
       "      <td>3</td>\n",
       "      <td>0</td>\n",
       "      <td>330.942676</td>\n",
       "      <td>228.073384</td>\n",
       "    </tr>\n",
       "    <tr>\n",
       "      <th>5815</th>\n",
       "      <td>0</td>\n",
       "      <td>3</td>\n",
       "      <td>1</td>\n",
       "      <td>3</td>\n",
       "      <td>9</td>\n",
       "      <td>1</td>\n",
       "      <td>89</td>\n",
       "      <td>27</td>\n",
       "      <td>2</td>\n",
       "      <td>338.558181</td>\n",
       "      <td>1453.023853</td>\n",
       "    </tr>\n",
       "    <tr>\n",
       "      <th>5964</th>\n",
       "      <td>0</td>\n",
       "      <td>2</td>\n",
       "      <td>0</td>\n",
       "      <td>0</td>\n",
       "      <td>3</td>\n",
       "      <td>1</td>\n",
       "      <td>87</td>\n",
       "      <td>15</td>\n",
       "      <td>1</td>\n",
       "      <td>378.039801</td>\n",
       "      <td>3654.499770</td>\n",
       "    </tr>\n",
       "    <tr>\n",
       "      <th>6222</th>\n",
       "      <td>0</td>\n",
       "      <td>2</td>\n",
       "      <td>0</td>\n",
       "      <td>0</td>\n",
       "      <td>3</td>\n",
       "      <td>1</td>\n",
       "      <td>89</td>\n",
       "      <td>15</td>\n",
       "      <td>1</td>\n",
       "      <td>305.617618</td>\n",
       "      <td>1258.076268</td>\n",
       "    </tr>\n",
       "    <tr>\n",
       "      <th>6224</th>\n",
       "      <td>0</td>\n",
       "      <td>3</td>\n",
       "      <td>1</td>\n",
       "      <td>3</td>\n",
       "      <td>6</td>\n",
       "      <td>1</td>\n",
       "      <td>90</td>\n",
       "      <td>27</td>\n",
       "      <td>2</td>\n",
       "      <td>310.044271</td>\n",
       "      <td>3812.165599</td>\n",
       "    </tr>\n",
       "    <tr>\n",
       "      <th>6275</th>\n",
       "      <td>0</td>\n",
       "      <td>99</td>\n",
       "      <td>0</td>\n",
       "      <td>0</td>\n",
       "      <td>0</td>\n",
       "      <td>0</td>\n",
       "      <td>91</td>\n",
       "      <td>3</td>\n",
       "      <td>0</td>\n",
       "      <td>380.231743</td>\n",
       "      <td>244.511209</td>\n",
       "    </tr>\n",
       "    <tr>\n",
       "      <th>6971</th>\n",
       "      <td>0</td>\n",
       "      <td>3</td>\n",
       "      <td>1</td>\n",
       "      <td>3</td>\n",
       "      <td>3</td>\n",
       "      <td>1</td>\n",
       "      <td>91</td>\n",
       "      <td>15</td>\n",
       "      <td>1</td>\n",
       "      <td>359.894040</td>\n",
       "      <td>211.949278</td>\n",
       "    </tr>\n",
       "    <tr>\n",
       "      <th>7242</th>\n",
       "      <td>0</td>\n",
       "      <td>2</td>\n",
       "      <td>1</td>\n",
       "      <td>3</td>\n",
       "      <td>6</td>\n",
       "      <td>1</td>\n",
       "      <td>92</td>\n",
       "      <td>27</td>\n",
       "      <td>2</td>\n",
       "      <td>323.856674</td>\n",
       "      <td>2781.529903</td>\n",
       "    </tr>\n",
       "    <tr>\n",
       "      <th>7910</th>\n",
       "      <td>0</td>\n",
       "      <td>99</td>\n",
       "      <td>0</td>\n",
       "      <td>0</td>\n",
       "      <td>0</td>\n",
       "      <td>0</td>\n",
       "      <td>100</td>\n",
       "      <td>3</td>\n",
       "      <td>0</td>\n",
       "      <td>379.502621</td>\n",
       "      <td>235.877083</td>\n",
       "    </tr>\n",
       "    <tr>\n",
       "      <th>8231</th>\n",
       "      <td>0</td>\n",
       "      <td>3</td>\n",
       "      <td>0</td>\n",
       "      <td>0</td>\n",
       "      <td>3</td>\n",
       "      <td>1</td>\n",
       "      <td>91</td>\n",
       "      <td>15</td>\n",
       "      <td>1</td>\n",
       "      <td>362.292046</td>\n",
       "      <td>783.016122</td>\n",
       "    </tr>\n",
       "    <tr>\n",
       "      <th>8648</th>\n",
       "      <td>0</td>\n",
       "      <td>99</td>\n",
       "      <td>0</td>\n",
       "      <td>0</td>\n",
       "      <td>0</td>\n",
       "      <td>0</td>\n",
       "      <td>91</td>\n",
       "      <td>3</td>\n",
       "      <td>0</td>\n",
       "      <td>384.656157</td>\n",
       "      <td>227.266377</td>\n",
       "    </tr>\n",
       "    <tr>\n",
       "      <th>8826</th>\n",
       "      <td>0</td>\n",
       "      <td>3</td>\n",
       "      <td>0</td>\n",
       "      <td>0</td>\n",
       "      <td>3</td>\n",
       "      <td>1</td>\n",
       "      <td>91</td>\n",
       "      <td>15</td>\n",
       "      <td>1</td>\n",
       "      <td>329.487111</td>\n",
       "      <td>814.434339</td>\n",
       "    </tr>\n",
       "    <tr>\n",
       "      <th>9064</th>\n",
       "      <td>0</td>\n",
       "      <td>1</td>\n",
       "      <td>0</td>\n",
       "      <td>0</td>\n",
       "      <td>3</td>\n",
       "      <td>1</td>\n",
       "      <td>87</td>\n",
       "      <td>15</td>\n",
       "      <td>1</td>\n",
       "      <td>319.312975</td>\n",
       "      <td>1036.079550</td>\n",
       "    </tr>\n",
       "    <tr>\n",
       "      <th>9636</th>\n",
       "      <td>0</td>\n",
       "      <td>3</td>\n",
       "      <td>1</td>\n",
       "      <td>3</td>\n",
       "      <td>6</td>\n",
       "      <td>1</td>\n",
       "      <td>89</td>\n",
       "      <td>27</td>\n",
       "      <td>2</td>\n",
       "      <td>380.916540</td>\n",
       "      <td>2012.201032</td>\n",
       "    </tr>\n",
       "    <tr>\n",
       "      <th>9863</th>\n",
       "      <td>0</td>\n",
       "      <td>3</td>\n",
       "      <td>1</td>\n",
       "      <td>3</td>\n",
       "      <td>6</td>\n",
       "      <td>1</td>\n",
       "      <td>87</td>\n",
       "      <td>27</td>\n",
       "      <td>2</td>\n",
       "      <td>361.379925</td>\n",
       "      <td>2043.199869</td>\n",
       "    </tr>\n",
       "    <tr>\n",
       "      <th>10341</th>\n",
       "      <td>0</td>\n",
       "      <td>99</td>\n",
       "      <td>0</td>\n",
       "      <td>0</td>\n",
       "      <td>0</td>\n",
       "      <td>0</td>\n",
       "      <td>88</td>\n",
       "      <td>3</td>\n",
       "      <td>0</td>\n",
       "      <td>378.793687</td>\n",
       "      <td>201.814792</td>\n",
       "    </tr>\n",
       "    <tr>\n",
       "      <th>10394</th>\n",
       "      <td>0</td>\n",
       "      <td>1</td>\n",
       "      <td>1</td>\n",
       "      <td>3</td>\n",
       "      <td>6</td>\n",
       "      <td>1</td>\n",
       "      <td>87</td>\n",
       "      <td>39</td>\n",
       "      <td>3</td>\n",
       "      <td>338.107210</td>\n",
       "      <td>2218.467485</td>\n",
       "    </tr>\n",
       "  </tbody>\n",
       "</table>\n",
       "</div>"
      ],
      "text/plain": [
       "       TARGET  loyalty  prod_A  type_A  type_B  prod_B  age  lor_M  LOR  \\\n",
       "385         1        1       1       3       3       1   93     15    1   \n",
       "621         1        1       1       3       3       1   88     15    1   \n",
       "784         1        2       1       3       3       1   89     27    2   \n",
       "862         1       99       0       0       0       0   91      3    0   \n",
       "2506        1       99       0       0       0       0   94      3    0   \n",
       "2741        1        3       1       3       3       1   88     15    1   \n",
       "2907        1        1       1       3       3       1   90     15    1   \n",
       "2976        1       99       0       0       0       0  102     15    1   \n",
       "3207        0        1       0       0       3       1   88     15    1   \n",
       "3253        0       99       0       0       0       0  100      3    0   \n",
       "3622        0       99       0       0       0       0   87      3    0   \n",
       "3864        0        2       1       3       3       1   94     15    1   \n",
       "4178        0        3       1       3       3       1   89     15    1   \n",
       "4739        0        2       0       0       3       1   87     15    1   \n",
       "4810        0        1       1       3       3       1   89     39    3   \n",
       "4960        0        2       1       3       3       1   90     15    1   \n",
       "5273        0        3       0       0       3       1   88     15    1   \n",
       "5309        0        2       0       0       3       1   89     15    1   \n",
       "5454        0        3       0       0       3       1  102     15    1   \n",
       "5728        0       99       0       0       0       0   91      3    0   \n",
       "5815        0        3       1       3       9       1   89     27    2   \n",
       "5964        0        2       0       0       3       1   87     15    1   \n",
       "6222        0        2       0       0       3       1   89     15    1   \n",
       "6224        0        3       1       3       6       1   90     27    2   \n",
       "6275        0       99       0       0       0       0   91      3    0   \n",
       "6971        0        3       1       3       3       1   91     15    1   \n",
       "7242        0        2       1       3       6       1   92     27    2   \n",
       "7910        0       99       0       0       0       0  100      3    0   \n",
       "8231        0        3       0       0       3       1   91     15    1   \n",
       "8648        0       99       0       0       0       0   91      3    0   \n",
       "8826        0        3       0       0       3       1   91     15    1   \n",
       "9064        0        1       0       0       3       1   87     15    1   \n",
       "9636        0        3       1       3       6       1   89     27    2   \n",
       "9863        0        3       1       3       6       1   87     27    2   \n",
       "10341       0       99       0       0       0       0   88      3    0   \n",
       "10394       0        1       1       3       6       1   87     39    3   \n",
       "\n",
       "       turnover_A   turnover_B  \n",
       "385    759.703292   602.248238  \n",
       "621    391.327459   218.431626  \n",
       "784    302.297637   233.266460  \n",
       "862    434.454521   204.410312  \n",
       "2506   459.427643   292.206165  \n",
       "2741   338.015313   239.908689  \n",
       "2907   740.800722   482.322004  \n",
       "2976   436.054680   258.432573  \n",
       "3207   363.920458  1518.973189  \n",
       "3253   347.703304   209.913216  \n",
       "3622   394.677874   217.760416  \n",
       "3864   310.552118   244.601749  \n",
       "4178   333.355216   210.236401  \n",
       "4739   360.009442   223.232606  \n",
       "4810   960.631131   833.608735  \n",
       "4960   333.350477   229.533749  \n",
       "5273   325.913394  2118.326624  \n",
       "5309   315.743595  2910.608791  \n",
       "5454   367.491079  3210.235891  \n",
       "5728   330.942676   228.073384  \n",
       "5815   338.558181  1453.023853  \n",
       "5964   378.039801  3654.499770  \n",
       "6222   305.617618  1258.076268  \n",
       "6224   310.044271  3812.165599  \n",
       "6275   380.231743   244.511209  \n",
       "6971   359.894040   211.949278  \n",
       "7242   323.856674  2781.529903  \n",
       "7910   379.502621   235.877083  \n",
       "8231   362.292046   783.016122  \n",
       "8648   384.656157   227.266377  \n",
       "8826   329.487111   814.434339  \n",
       "9064   319.312975  1036.079550  \n",
       "9636   380.916540  2012.201032  \n",
       "9863   361.379925  2043.199869  \n",
       "10341  378.793687   201.814792  \n",
       "10394  338.107210  2218.467485  "
      ]
     },
     "execution_count": 78,
     "metadata": {},
     "output_type": "execute_result"
    }
   ],
   "source": [
    "df[(z_scores > 4)]"
   ]
  },
  {
   "cell_type": "code",
   "execution_count": null,
   "id": "984b4850",
   "metadata": {},
   "outputs": [],
   "source": []
  },
  {
   "cell_type": "markdown",
   "id": "fb5e05e2",
   "metadata": {},
   "source": [
    "----\n",
    "\n",
    "<b> [Back to Content](#Content) </b>"
   ]
  },
  {
   "cell_type": "markdown",
   "id": "c81c1c5a",
   "metadata": {},
   "source": [
    "### 4.2 Handling Skewness"
   ]
  },
  {
   "cell_type": "code",
   "execution_count": null,
   "id": "9cb83f1a",
   "metadata": {},
   "outputs": [],
   "source": [
    "# Checking for negative value.\n",
    "\n",
    "numeric_cols = ['age', 'LOR', 'lor_M', 'turnover_A', 'turnover_B']\n",
    "\n",
    "negative_check = df[numeric_cols].apply(lambda x: (x < 0).any())\n",
    "\n",
    "print(negative_check)"
   ]
  },
  {
   "cell_type": "markdown",
   "id": "f6994505",
   "metadata": {},
   "source": [
    "- All numeric attributes are non-negative."
   ]
  },
  {
   "cell_type": "code",
   "execution_count": null,
   "id": "3bfae6e2",
   "metadata": {},
   "outputs": [],
   "source": [
    "# Checking for zero values.\n",
    "\n",
    "zero_check = df[numeric_cols].apply(lambda x: (x == 0).any())\n",
    "\n",
    "print(zero_check)"
   ]
  },
  {
   "cell_type": "markdown",
   "id": "52ed5570",
   "metadata": {},
   "source": [
    "- Except LOR all features above dont have zero value."
   ]
  },
  {
   "cell_type": "code",
   "execution_count": null,
   "id": "c4d24c8d",
   "metadata": {},
   "outputs": [],
   "source": [
    "# Applying  Box-Cox transformation to each numeric columns for handeling the skewness.\n",
    "\n",
    "for col in numeric_cols:\n",
    "    \n",
    "    # Increasing  values by 1 to handle zeros\n",
    "    df[col] += 1\n",
    "    \n",
    "    # Performing Box-Cox transformation and save the lambda value\n",
    "    fitted_data, fitted_lambda = stats.boxcox(df[col])\n",
    "    \n",
    "    # Replacing original column with transformed data\n",
    "    df[col] = fitted_data\n",
    "    \n",
    "    #  Print lambda value for each column\n",
    "    print(f\"Lambda value for {col}: {fitted_lambda}\")"
   ]
  },
  {
   "cell_type": "markdown",
   "id": "37e9b35c",
   "metadata": {},
   "source": [
    "----\n",
    "\n",
    "<b> [Back to Content](#Content) </b>"
   ]
  },
  {
   "cell_type": "markdown",
   "id": "836c2ae4",
   "metadata": {},
   "source": [
    "## 5. Prepped Data Review"
   ]
  },
  {
   "cell_type": "code",
   "execution_count": null,
   "id": "16b7090b",
   "metadata": {},
   "outputs": [],
   "source": [
    "# Checking every columns has the correct data types.\n",
    "\n",
    "df_clean.dtypes"
   ]
  },
  {
   "cell_type": "code",
   "execution_count": null,
   "id": "5eb0cd08",
   "metadata": {},
   "outputs": [],
   "source": [
    "# Ensure that there are no duplicates.\n",
    "\n",
    "df_clean.duplicated().sum()"
   ]
  },
  {
   "cell_type": "code",
   "execution_count": null,
   "id": "f05961a6",
   "metadata": {},
   "outputs": [],
   "source": [
    "# Ensuring that there is no null value present.\n",
    "\n",
    "df_clean.isnull().sum()"
   ]
  },
  {
   "cell_type": "code",
   "execution_count": null,
   "id": "ae6e9b42",
   "metadata": {},
   "outputs": [],
   "source": []
  },
  {
   "cell_type": "markdown",
   "id": "04f26dbd",
   "metadata": {},
   "source": [
    "----\n",
    "\n",
    "<b> [Back to Content](#Content) </b>"
   ]
  },
  {
   "cell_type": "markdown",
   "id": "76e8aa6d",
   "metadata": {},
   "source": [
    "#### Ensuring Univariate"
   ]
  },
  {
   "cell_type": "code",
   "execution_count": null,
   "id": "73cde38c",
   "metadata": {},
   "outputs": [],
   "source": []
  },
  {
   "cell_type": "markdown",
   "id": "0fb9ffc7",
   "metadata": {},
   "source": [
    "----\n",
    "\n",
    "<b> [Back to Content](#Content) </b>"
   ]
  },
  {
   "cell_type": "markdown",
   "id": "aaaed7ab",
   "metadata": {},
   "source": [
    "#### Ensuring Bivariate"
   ]
  },
  {
   "cell_type": "code",
   "execution_count": null,
   "id": "69b4ee7b",
   "metadata": {},
   "outputs": [],
   "source": []
  },
  {
   "cell_type": "markdown",
   "id": "653c2189",
   "metadata": {},
   "source": [
    "----\n",
    "\n",
    "<b> [Back to Content](#Content) </b>"
   ]
  },
  {
   "cell_type": "markdown",
   "id": "fdcb7702",
   "metadata": {},
   "source": [
    "#### Multivariate Bivariate"
   ]
  },
  {
   "cell_type": "code",
   "execution_count": null,
   "id": "b34e32fb",
   "metadata": {},
   "outputs": [],
   "source": []
  },
  {
   "cell_type": "markdown",
   "id": "aa92b1ac",
   "metadata": {},
   "source": [
    "----\n",
    "\n",
    "<b> [Back to Content](#Content) </b>"
   ]
  },
  {
   "cell_type": "markdown",
   "id": "ada3a870",
   "metadata": {},
   "source": [
    "## 6. Dimensionality Reduction"
   ]
  },
  {
   "cell_type": "code",
   "execution_count": null,
   "id": "c6127d63",
   "metadata": {},
   "outputs": [],
   "source": []
  },
  {
   "cell_type": "markdown",
   "id": "4bfc5eed",
   "metadata": {},
   "source": [
    "----\n",
    "\n",
    "<b> [Back to Content](#Content) </b>"
   ]
  },
  {
   "cell_type": "markdown",
   "id": "3dc183c9",
   "metadata": {},
   "source": [
    "### 6.1 Variance Threshold"
   ]
  },
  {
   "cell_type": "code",
   "execution_count": null,
   "id": "016b8ba0",
   "metadata": {},
   "outputs": [],
   "source": []
  },
  {
   "cell_type": "markdown",
   "id": "2c5b0253",
   "metadata": {},
   "source": [
    "----\n",
    "\n",
    "<b> [Back to Content](#Content) </b>"
   ]
  },
  {
   "cell_type": "markdown",
   "id": "f6da09e0",
   "metadata": {},
   "source": [
    "### 6.2 Backward Elimination"
   ]
  },
  {
   "cell_type": "code",
   "execution_count": null,
   "id": "9441bc62",
   "metadata": {},
   "outputs": [],
   "source": []
  },
  {
   "cell_type": "markdown",
   "id": "6e7c8991",
   "metadata": {},
   "source": [
    "----\n",
    "\n",
    "<b> [Back to Content](#Content) </b>"
   ]
  },
  {
   "cell_type": "markdown",
   "id": "f3e98308",
   "metadata": {},
   "source": [
    "## 7. Binary Logistic Regression Models"
   ]
  },
  {
   "cell_type": "code",
   "execution_count": null,
   "id": "caae179a",
   "metadata": {},
   "outputs": [],
   "source": []
  },
  {
   "cell_type": "markdown",
   "id": "11f57497",
   "metadata": {},
   "source": [
    "----\n",
    "\n",
    "<b> [Back to Content](#Content) </b>"
   ]
  },
  {
   "cell_type": "markdown",
   "id": "553b7ab9",
   "metadata": {},
   "source": [
    "### 7.1 1<sup>st</sup> Model"
   ]
  },
  {
   "cell_type": "code",
   "execution_count": null,
   "id": "de001cbc",
   "metadata": {},
   "outputs": [],
   "source": []
  },
  {
   "cell_type": "markdown",
   "id": "b1428a43",
   "metadata": {},
   "source": [
    "----\n",
    "\n",
    "<b> [Back to Content](#Content) </b>"
   ]
  },
  {
   "cell_type": "markdown",
   "id": "decd8d4e",
   "metadata": {},
   "source": [
    "### 7.2 2<sup>nd</sup> Model"
   ]
  },
  {
   "cell_type": "code",
   "execution_count": null,
   "id": "10f3f092",
   "metadata": {},
   "outputs": [],
   "source": []
  },
  {
   "cell_type": "markdown",
   "id": "8292b31a",
   "metadata": {},
   "source": [
    "----\n",
    "\n",
    "<b> [Back to Content](#Content) </b>"
   ]
  },
  {
   "cell_type": "markdown",
   "id": "3a1ea3f0",
   "metadata": {},
   "source": [
    "### 7.3 3<sup>rd</sup> Model"
   ]
  },
  {
   "cell_type": "code",
   "execution_count": null,
   "id": "3e8f5adb",
   "metadata": {},
   "outputs": [],
   "source": []
  },
  {
   "cell_type": "markdown",
   "id": "e954399d",
   "metadata": {},
   "source": [
    "----\n",
    "\n",
    "<b> [Back to Content](#Content) </b>"
   ]
  },
  {
   "cell_type": "markdown",
   "id": "555abda6",
   "metadata": {},
   "source": [
    "## 8. Model Selection"
   ]
  },
  {
   "cell_type": "code",
   "execution_count": null,
   "id": "0cb25d2e",
   "metadata": {},
   "outputs": [],
   "source": []
  },
  {
   "cell_type": "markdown",
   "id": "1b04ad3b",
   "metadata": {},
   "source": [
    "----\n",
    "\n",
    "<b> [Back to Content](#Content) </b>"
   ]
  },
  {
   "cell_type": "markdown",
   "id": "ef8a8cef",
   "metadata": {},
   "source": [
    "## Conclusion"
   ]
  },
  {
   "cell_type": "markdown",
   "id": "dee11560",
   "metadata": {},
   "source": []
  },
  {
   "cell_type": "markdown",
   "id": "f5d69bf3",
   "metadata": {},
   "source": [
    "<b> [TOP⬆️](#Implementing-and-Evaluating-a-Series-of-Regression-Models) </b>\n",
    "\n",
    "---\n",
    "<h3><center>THE END</center></h3>\n",
    "\n",
    "==================================================================================================================="
   ]
  }
 ],
 "metadata": {
  "kernelspec": {
   "display_name": "Python 3",
   "language": "python",
   "name": "python3"
  },
  "language_info": {
   "codemirror_mode": {
    "name": "ipython",
    "version": 3
   },
   "file_extension": ".py",
   "mimetype": "text/x-python",
   "name": "python",
   "nbconvert_exporter": "python",
   "pygments_lexer": "ipython3",
   "version": "3.8.8"
  }
 },
 "nbformat": 4,
 "nbformat_minor": 5
}
